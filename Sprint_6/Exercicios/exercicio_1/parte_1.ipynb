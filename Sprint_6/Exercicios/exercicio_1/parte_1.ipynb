{
 "cells": [
  {
   "cell_type": "code",
   "execution_count": 4,
   "id": "27181634",
   "metadata": {},
   "outputs": [
    {
     "name": "stdout",
     "output_type": "stream",
     "text": [
      "[40, 45, 70, 58, 98, 14, 19, 50, 59, 63, 75, 43, 76, 64, 71, 59, 24, 68, 13, 72, 63, 28, 52, 62, 11, 51, 89, 96, 69, 34, 38, 22, 9, 1, 5, 10, 82, 36, 7, 22, 41, 33, 80, 54, 9, 93, 64, 2, 86, 57, 1, 98, 52, 85, 40, 83, 12, 65, 94, 20, 63, 9, 63, 41, 9, 40, 91, 31, 87, 32, 50, 12, 60, 16, 88, 72, 70, 42, 11, 47, 45, 81, 33, 30, 1, 30, 96, 12, 32, 10, 39, 54, 68, 85, 84, 93, 99, 80, 83, 40, 90, 60, 85, 65, 71, 55, 18, 19, 67, 97, 62, 66, 7, 74, 23, 4, 83, 20, 91, 76, 75, 3, 12, 84, 7, 53, 52, 56, 10, 68, 33, 26, 88, 62, 30, 47, 14, 80, 56, 72, 49, 51, 29, 99, 84, 11, 10, 37, 33, 40, 32, 38, 72, 90, 5, 37, 44, 100, 85, 27, 34, 11, 85, 13, 50, 59, 45, 18, 17, 87, 49, 66, 21, 100, 29, 77, 93, 23, 62, 87, 1, 43, 33, 2, 73, 51, 63, 1, 1, 74, 44, 29, 78, 86, 93, 67, 62, 27, 30, 93, 42, 23, 79, 41, 79, 25, 94, 58, 29, 7, 21, 9, 93, 52, 19, 73, 35, 10, 54, 53, 3, 70, 54, 17, 37, 10, 44, 92, 85, 28, 38, 54, 13, 52, 64, 56, 7, 73, 21, 5, 16, 76, 14, 59, 61, 26, 82, 66, 85, 83]\n"
     ]
    }
   ],
   "source": [
    "# Etapa 1\n",
    "\n",
    "import random\n",
    "\n",
    "numeros = [random.randint(1, 100) for n in range(250)]\n",
    "numeros.reverse()\n",
    "print(numeros)"
   ]
  },
  {
   "cell_type": "code",
   "execution_count": 2,
   "id": "89131b8b",
   "metadata": {},
   "outputs": [
    {
     "name": "stdout",
     "output_type": "stream",
     "text": [
      "anta\n",
      "baleia\n",
      "cachorro\n",
      "camelo\n",
      "cavalo\n",
      "cervo\n",
      "coelho\n",
      "elefante\n",
      "gato\n",
      "girafa\n",
      "golfinho\n",
      "jacaré\n",
      "leão\n",
      "lobo\n",
      "macaco\n",
      "rinoceronte\n",
      "tatu\n",
      "tigre\n",
      "urso\n",
      "zebra\n"
     ]
    }
   ],
   "source": [
    "# Etapa 2\n",
    "\n",
    "animais = [\n",
    "    \"tigre\", \"gato\", \"cachorro\", \"elefante\", \"leão\", \"urso\",\n",
    "    \"lobo\", \"coelho\", \"rinoceronte\", \"girafa\", \"zebra\", \"cavalo\",\n",
    "    \"macaco\", \"jacaré\", \"anta\", \"tatu\", \"camelo\", \"cervo\",\n",
    "    \"baleia\", \"golfinho\"\n",
    "]\n",
    "\n",
    "animais.sort()\n",
    "\n",
    "[print(animal) for animal in animais]\n",
    "\n",
    "with open(\"animais.txt\", \"w\") as arquivo:\n",
    "    arquivo.write(\"\\n\".join(animais))"
   ]
  },
  {
   "cell_type": "code",
   "execution_count": 3,
   "id": "1058406d",
   "metadata": {},
   "outputs": [
    {
     "name": "stdout",
     "output_type": "stream",
     "text": [
      "Gerando 10000000 nomes aleatórios...\n",
      "Arquivo nomes_aleatorios.txt gerado com sucesso!\n"
     ]
    }
   ],
   "source": [
    "# Etapa 3 \n",
    "\n",
    "import random\n",
    "import time\n",
    "import os\n",
    "import names\n",
    "\n",
    "\n",
    "random.seed(40)\n",
    "qtd_nomes_unicos = 39980\n",
    "qtd_nomes_aleatorios = 10000000\n",
    "\n",
    "\n",
    "aux = []\n",
    "\n",
    "for i in range(qtd_nomes_unicos):\n",
    "    aux.append(names.get_full_name())\n",
    "\n",
    "print(f'Gerando {qtd_nomes_aleatorios} nomes aleatórios...')\n",
    "\n",
    "\n",
    "dados = []\n",
    "for i in range(qtd_nomes_aleatorios):\n",
    "    dados.append(random.choice(aux))\n",
    "\n",
    "with open(\"nomes_aleatorios.txt\", \"w\", encoding=\"utf-8\") as arquivo:\n",
    "    for nome in dados:\n",
    "        arquivo.write(nome + \"\\n\")\n",
    "\n",
    "print(\"Arquivo nomes_aleatorios.txt gerado com sucesso!\")"
   ]
  }
 ],
 "metadata": {
  "kernelspec": {
   "display_name": "Python 3",
   "language": "python",
   "name": "python3"
  },
  "language_info": {
   "codemirror_mode": {
    "name": "ipython",
    "version": 3
   },
   "file_extension": ".py",
   "mimetype": "text/x-python",
   "name": "python",
   "nbconvert_exporter": "python",
   "pygments_lexer": "ipython3",
   "version": "3.10.6"
  }
 },
 "nbformat": 4,
 "nbformat_minor": 5
}
