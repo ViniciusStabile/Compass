{
 "cells": [
  {
   "cell_type": "markdown",
   "id": "543e4bcb",
   "metadata": {},
   "source": [
    "# ETAPA 1"
   ]
  },
  {
   "cell_type": "code",
   "execution_count": 1,
   "id": "270b5eb8",
   "metadata": {},
   "outputs": [],
   "source": [
    "from pyspark.sql import SparkSession\n",
    "from pyspark import SparkContext, SQLContext\n",
    "from pyspark.sql import functions as F"
   ]
  },
  {
   "cell_type": "code",
   "execution_count": 2,
   "id": "b412feb3",
   "metadata": {},
   "outputs": [],
   "source": [
    "spark = SparkSession.builder.master(\"local[*]\").appName(\"Exercicio intro\").getOrCreate()"
   ]
  },
  {
   "cell_type": "code",
   "execution_count": 3,
   "id": "9839dce2",
   "metadata": {},
   "outputs": [],
   "source": [
    "df_nomes = spark.read.csv('../exercicio_1/nomes_aleatorios.txt')"
   ]
  },
  {
   "cell_type": "code",
   "execution_count": 4,
   "id": "afd59a80",
   "metadata": {},
   "outputs": [
    {
     "name": "stdout",
     "output_type": "stream",
     "text": [
      "+-----------------+\n",
      "|              _c0|\n",
      "+-----------------+\n",
      "|       Edna Riina|\n",
      "|Theresa Samaniego|\n",
      "|        Paul Cook|\n",
      "|  Michael Darnell|\n",
      "|     Martha Smith|\n",
      "+-----------------+\n",
      "only showing top 5 rows\n"
     ]
    }
   ],
   "source": [
    "df_nomes.show(5)"
   ]
  },
  {
   "cell_type": "markdown",
   "id": "1cb3723b",
   "metadata": {},
   "source": [
    "# ETAPA 2"
   ]
  },
  {
   "cell_type": "code",
   "execution_count": 5,
   "id": "7accc0cd",
   "metadata": {},
   "outputs": [
    {
     "name": "stdout",
     "output_type": "stream",
     "text": [
      "root\n",
      " |-- _c0: string (nullable = true)\n",
      "\n",
      "root\n",
      " |-- Nomes: string (nullable = true)\n",
      "\n",
      "+-----------------+\n",
      "|            Nomes|\n",
      "+-----------------+\n",
      "|       Edna Riina|\n",
      "|Theresa Samaniego|\n",
      "|        Paul Cook|\n",
      "|  Michael Darnell|\n",
      "|     Martha Smith|\n",
      "|      Alan Rorick|\n",
      "|       John Smith|\n",
      "|       Carol Holt|\n",
      "|   Gloria Beckham|\n",
      "|     Bart Aguilar|\n",
      "+-----------------+\n",
      "only showing top 10 rows\n"
     ]
    }
   ],
   "source": [
    "df_nomes.printSchema()\n",
    "df_nomes = df_nomes.withColumnRenamed(\"_c0\",'Nomes')\n",
    "df_nomes.printSchema()\n",
    "df_nomes.show(10)"
   ]
  },
  {
   "cell_type": "markdown",
   "id": "9b7ac61d",
   "metadata": {},
   "source": [
    "# ETAPA 3"
   ]
  },
  {
   "cell_type": "code",
   "execution_count": 6,
   "id": "a59c16d3",
   "metadata": {},
   "outputs": [],
   "source": [
    "df_nomes = df_nomes.withColumn(\"aleatorio\", F.rand())\n",
    "\n",
    "df_nomes = df_nomes.withColumn(\"Escolaridade\", \n",
    "    F.when(F.col(\"aleatorio\") < 0.33, \"Fundamental\")\n",
    "   .when(F.col(\"aleatorio\") < 0.66, \"Medio\")\n",
    "   .otherwise(\"Superior\")\n",
    ")\n",
    "\n",
    "df_nomes = df_nomes.drop(\"aleatorio\")"
   ]
  },
  {
   "cell_type": "code",
   "execution_count": 7,
   "id": "8232ffde",
   "metadata": {},
   "outputs": [
    {
     "name": "stdout",
     "output_type": "stream",
     "text": [
      "+-----------------+------------+\n",
      "|            Nomes|Escolaridade|\n",
      "+-----------------+------------+\n",
      "|       Edna Riina|    Superior|\n",
      "|Theresa Samaniego| Fundamental|\n",
      "|        Paul Cook|    Superior|\n",
      "|  Michael Darnell|       Medio|\n",
      "|     Martha Smith|    Superior|\n",
      "|      Alan Rorick|    Superior|\n",
      "|       John Smith|    Superior|\n",
      "|       Carol Holt|    Superior|\n",
      "|   Gloria Beckham| Fundamental|\n",
      "|     Bart Aguilar|       Medio|\n",
      "+-----------------+------------+\n",
      "only showing top 10 rows\n"
     ]
    }
   ],
   "source": [
    "df_nomes.show(10)"
   ]
  },
  {
   "cell_type": "markdown",
   "id": "4aa7f425",
   "metadata": {},
   "source": [
    "# ETAPA 4"
   ]
  },
  {
   "cell_type": "code",
   "execution_count": 8,
   "id": "98d0e7b1",
   "metadata": {},
   "outputs": [],
   "source": [
    "paises = [\n",
    "    'Argentina', 'Bolívia', 'Brasil', 'Chile', 'Colômbia', 'Equador', 'Guiana', 'França (Guiana Francesa)', \n",
    "    'Paraguai', 'Peru', 'Suriname', 'Uruguai', 'Venezuela'\n",
    "]"
   ]
  },
  {
   "cell_type": "code",
   "execution_count": 9,
   "id": "8406f9e8",
   "metadata": {},
   "outputs": [
    {
     "name": "stdout",
     "output_type": "stream",
     "text": [
      "+-----------------+------------+--------------------+\n",
      "|            Nomes|Escolaridade|                Pais|\n",
      "+-----------------+------------+--------------------+\n",
      "|       Edna Riina|    Superior|França (Guiana Fr...|\n",
      "|Theresa Samaniego| Fundamental|            Colômbia|\n",
      "|        Paul Cook|    Superior|           Venezuela|\n",
      "|  Michael Darnell|       Medio|             Uruguai|\n",
      "|     Martha Smith|    Superior|           Argentina|\n",
      "+-----------------+------------+--------------------+\n",
      "only showing top 5 rows\n"
     ]
    }
   ],
   "source": [
    "df_nomes = df_nomes.withColumn(\"Pais\", F.expr(\n",
    "    f\"element_at(array({', '.join([repr(pais) for pais in paises])}), cast(rand() * {len(paises)} + 1 as int))\"\n",
    "))\n",
    "\n",
    "df_nomes.show(5)"
   ]
  },
  {
   "cell_type": "markdown",
   "id": "e6776153",
   "metadata": {},
   "source": [
    "# ETAPA 5"
   ]
  },
  {
   "cell_type": "code",
   "execution_count": 10,
   "id": "c4e91b77",
   "metadata": {},
   "outputs": [
    {
     "name": "stdout",
     "output_type": "stream",
     "text": [
      "+-----------------+------------+--------------------+-------------+\n",
      "|            Nomes|Escolaridade|                Pais|AnoNascimento|\n",
      "+-----------------+------------+--------------------+-------------+\n",
      "|       Edna Riina|    Superior|França (Guiana Fr...|         1960|\n",
      "|Theresa Samaniego| Fundamental|            Colômbia|         1975|\n",
      "|        Paul Cook|    Superior|           Venezuela|         1966|\n",
      "|  Michael Darnell|       Medio|             Uruguai|         1979|\n",
      "|     Martha Smith|    Superior|           Argentina|         1985|\n",
      "+-----------------+------------+--------------------+-------------+\n",
      "only showing top 5 rows\n"
     ]
    }
   ],
   "source": [
    "df_nomes = df_nomes.withColumn(\"AnoNascimento\", F.floor(F.rand() * (2010 - 1945 + 1)) + 1945)\n",
    "df_nomes.show(5)"
   ]
  },
  {
   "cell_type": "markdown",
   "id": "b91cda42",
   "metadata": {},
   "source": [
    "# ETAPA 6"
   ]
  },
  {
   "cell_type": "code",
   "execution_count": 11,
   "id": "fc85ca25",
   "metadata": {},
   "outputs": [
    {
     "name": "stdout",
     "output_type": "stream",
     "text": [
      "+----------------+\n",
      "|           Nomes|\n",
      "+----------------+\n",
      "|    Bart Aguilar|\n",
      "|  Lois Bernstein|\n",
      "|      Glenn Mack|\n",
      "|     Erma Rideau|\n",
      "| Patrick Johnson|\n",
      "|  David Sullivan|\n",
      "|   Cindy Ramirez|\n",
      "|   Vance Melcher|\n",
      "|Karen Altamirano|\n",
      "|  Ronald Johnson|\n",
      "+----------------+\n",
      "only showing top 10 rows\n"
     ]
    }
   ],
   "source": [
    "df_select = df_nomes.select(\"Nomes\").where(\"AnoNascimento >= 2001\")\n",
    "df_select.show(10)"
   ]
  },
  {
   "cell_type": "markdown",
   "id": "c6891b46",
   "metadata": {},
   "source": [
    "# ETAPA 7"
   ]
  },
  {
   "cell_type": "code",
   "execution_count": 12,
   "id": "752a5b73",
   "metadata": {},
   "outputs": [
    {
     "name": "stdout",
     "output_type": "stream",
     "text": [
      "+----------------+\n",
      "|           Nomes|\n",
      "+----------------+\n",
      "|    Bart Aguilar|\n",
      "|  Lois Bernstein|\n",
      "|      Glenn Mack|\n",
      "|     Erma Rideau|\n",
      "| Patrick Johnson|\n",
      "|  David Sullivan|\n",
      "|   Cindy Ramirez|\n",
      "|   Vance Melcher|\n",
      "|Karen Altamirano|\n",
      "|  Ronald Johnson|\n",
      "+----------------+\n",
      "only showing top 10 rows\n"
     ]
    }
   ],
   "source": [
    "df_nomes.createOrReplaceTempView(\"pessoas\")\n",
    "\n",
    "df_select = spark.sql(\"\"\"\n",
    "    SELECT Nomes\n",
    "    FROM pessoas\n",
    "    WHERE AnoNascimento >= 2001\n",
    "\"\"\")\n",
    "\n",
    "df_select.show(10)"
   ]
  },
  {
   "cell_type": "markdown",
   "id": "5fe12242",
   "metadata": {},
   "source": [
    "# ETAPA 8"
   ]
  },
  {
   "cell_type": "code",
   "execution_count": 13,
   "id": "6e65ae71",
   "metadata": {},
   "outputs": [
    {
     "name": "stdout",
     "output_type": "stream",
     "text": [
      "2272851\n"
     ]
    }
   ],
   "source": [
    "print(df_nomes.filter(\n",
    "    (F.col(\"AnoNascimento\") >= 1980) & (F.col(\"AnoNascimento\") <= 1994)\n",
    ").count())"
   ]
  },
  {
   "cell_type": "markdown",
   "id": "ad5ac3ca",
   "metadata": {},
   "source": [
    "# ETAPA 9"
   ]
  },
  {
   "cell_type": "code",
   "execution_count": 14,
   "id": "375bc107",
   "metadata": {},
   "outputs": [
    {
     "name": "stdout",
     "output_type": "stream",
     "text": [
      "+-----------------+\n",
      "|total_millennials|\n",
      "+-----------------+\n",
      "|          2272851|\n",
      "+-----------------+\n",
      "\n"
     ]
    }
   ],
   "source": [
    "resultado = spark.sql(\"\"\"\n",
    "    SELECT COUNT(*) AS total_millennials\n",
    "    FROM pessoas\n",
    "    WHERE AnoNascimento BETWEEN 1980 AND 1994\n",
    "\"\"\")\n",
    "\n",
    "resultado.show()"
   ]
  },
  {
   "cell_type": "markdown",
   "id": "ed648449",
   "metadata": {},
   "source": [
    "# ETAPA 10"
   ]
  },
  {
   "cell_type": "code",
   "execution_count": 15,
   "id": "1672251c",
   "metadata": {},
   "outputs": [],
   "source": [
    "df_geracoes = spark.sql(\"\"\"\n",
    "    SELECT\n",
    "        Pais,\n",
    "        CASE\n",
    "            WHEN AnoNascimento BETWEEN 1944 AND 1964 THEN 'Baby Boomers'\n",
    "            WHEN AnoNascimento BETWEEN 1965 AND 1979 THEN 'Geração X'\n",
    "            WHEN AnoNascimento BETWEEN 1980 AND 1994 THEN 'Millennials'\n",
    "            WHEN AnoNascimento BETWEEN 1995 AND 2015 THEN 'Geração Z'\n",
    "            ELSE 'Desconhecida'\n",
    "        END AS Geracao,\n",
    "        COUNT(*) AS total\n",
    "    FROM pessoas\n",
    "    GROUP BY Pais, Geracao\n",
    "    ORDER BY Pais ASC, Geracao ASC, total ASC\n",
    "\"\"\")"
   ]
  },
  {
   "cell_type": "code",
   "execution_count": 16,
   "id": "9c203639",
   "metadata": {},
   "outputs": [
    {
     "name": "stdout",
     "output_type": "stream",
     "text": [
      "+---------+------------+------+\n",
      "|     Pais|     Geracao| total|\n",
      "+---------+------------+------+\n",
      "|Argentina|Baby Boomers|234029|\n",
      "|Argentina|   Geração X|174455|\n",
      "|Argentina|   Geração Z|187073|\n",
      "|Argentina| Millennials|174761|\n",
      "|  Bolívia|Baby Boomers|232865|\n",
      "|  Bolívia|   Geração X|174378|\n",
      "|  Bolívia|   Geração Z|186757|\n",
      "|  Bolívia| Millennials|174862|\n",
      "|   Brasil|Baby Boomers|233503|\n",
      "|   Brasil|   Geração X|174778|\n",
      "|   Brasil|   Geração Z|186909|\n",
      "|   Brasil| Millennials|174789|\n",
      "|    Chile|Baby Boomers|233138|\n",
      "|    Chile|   Geração X|174132|\n",
      "|    Chile|   Geração Z|186513|\n",
      "|    Chile| Millennials|174837|\n",
      "| Colômbia|Baby Boomers|233457|\n",
      "| Colômbia|   Geração X|174663|\n",
      "| Colômbia|   Geração Z|187319|\n",
      "| Colômbia| Millennials|174991|\n",
      "+---------+------------+------+\n",
      "only showing top 20 rows\n"
     ]
    }
   ],
   "source": [
    "df_geracoes.show()"
   ]
  }
 ],
 "metadata": {
  "kernelspec": {
   "display_name": "Python 3",
   "language": "python",
   "name": "python3"
  },
  "language_info": {
   "codemirror_mode": {
    "name": "ipython",
    "version": 3
   },
   "file_extension": ".py",
   "mimetype": "text/x-python",
   "name": "python",
   "nbconvert_exporter": "python",
   "pygments_lexer": "ipython3",
   "version": "3.10.6"
  }
 },
 "nbformat": 4,
 "nbformat_minor": 5
}
