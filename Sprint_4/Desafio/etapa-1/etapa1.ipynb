{
 "cells": [
  {
   "cell_type": "markdown",
   "id": "84d35837",
   "metadata": {},
   "source": [
    "## Importação das bibliotecas\n",
    "\n",
    "- `boto3`: biblioteca oficial da AWS para acessar recursos como o S3.\n",
    "- `pandas`: usado para manipulação e análise de dados tabulares.\n",
    "- `botocore.exceptions`: tratamento de erros relacionados à autenticação e conexão com serviços AWS."
   ]
  },
  {
   "cell_type": "code",
   "execution_count": 1,
   "id": "48bbb942",
   "metadata": {},
   "outputs": [],
   "source": [
    "import pandas as pd\n",
    "import boto3\n",
    "from botocore.exceptions import BotoCoreError, ProfileNotFound, NoCredentialsError"
   ]
  },
  {
   "cell_type": "markdown",
   "id": "3228e8ce",
   "metadata": {},
   "source": [
    "### Carregamento do dataset"
   ]
  },
  {
   "cell_type": "code",
   "execution_count": 2,
   "id": "b0c8adf9",
   "metadata": {},
   "outputs": [],
   "source": [
    "df = pd.read_csv(\"C:/Users/Vinic/Downloads/bolsa_familia_2024.csv\")"
   ]
  },
  {
   "cell_type": "markdown",
   "id": "e1cb3fbb",
   "metadata": {},
   "source": [
    "### Informações do DataFrame"
   ]
  },
  {
   "cell_type": "code",
   "execution_count": 3,
   "id": "05ffb404",
   "metadata": {},
   "outputs": [
    {
     "data": {
      "text/html": [
       "<div>\n",
       "<style scoped>\n",
       "    .dataframe tbody tr th:only-of-type {\n",
       "        vertical-align: middle;\n",
       "    }\n",
       "\n",
       "    .dataframe tbody tr th {\n",
       "        vertical-align: top;\n",
       "    }\n",
       "\n",
       "    .dataframe thead th {\n",
       "        text-align: right;\n",
       "    }\n",
       "</style>\n",
       "<table border=\"1\" class=\"dataframe\">\n",
       "  <thead>\n",
       "    <tr style=\"text-align: right;\">\n",
       "      <th></th>\n",
       "      <th>codigo_ibge</th>\n",
       "      <th>anomes_s</th>\n",
       "      <th>qtd_familias_beneficiarias_bolsa_familia_s</th>\n",
       "      <th>valor_repassado_bolsa_familia_s</th>\n",
       "      <th>pbf_vlr_medio_benef_f</th>\n",
       "    </tr>\n",
       "  </thead>\n",
       "  <tbody>\n",
       "    <tr>\n",
       "      <th>0</th>\n",
       "      <td>110001</td>\n",
       "      <td>202412</td>\n",
       "      <td>1677</td>\n",
       "      <td>1132797.0</td>\n",
       "      <td>679.54</td>\n",
       "    </tr>\n",
       "    <tr>\n",
       "      <th>1</th>\n",
       "      <td>110002</td>\n",
       "      <td>202412</td>\n",
       "      <td>7710</td>\n",
       "      <td>5247594.0</td>\n",
       "      <td>683.90</td>\n",
       "    </tr>\n",
       "    <tr>\n",
       "      <th>2</th>\n",
       "      <td>110003</td>\n",
       "      <td>202412</td>\n",
       "      <td>307</td>\n",
       "      <td>207117.0</td>\n",
       "      <td>674.65</td>\n",
       "    </tr>\n",
       "    <tr>\n",
       "      <th>3</th>\n",
       "      <td>110004</td>\n",
       "      <td>202412</td>\n",
       "      <td>6066</td>\n",
       "      <td>4041564.0</td>\n",
       "      <td>666.70</td>\n",
       "    </tr>\n",
       "    <tr>\n",
       "      <th>4</th>\n",
       "      <td>110005</td>\n",
       "      <td>202412</td>\n",
       "      <td>1213</td>\n",
       "      <td>849202.0</td>\n",
       "      <td>702.40</td>\n",
       "    </tr>\n",
       "  </tbody>\n",
       "</table>\n",
       "</div>"
      ],
      "text/plain": [
       "   codigo_ibge  anomes_s  qtd_familias_beneficiarias_bolsa_familia_s  \\\n",
       "0       110001    202412                                        1677   \n",
       "1       110002    202412                                        7710   \n",
       "2       110003    202412                                         307   \n",
       "3       110004    202412                                        6066   \n",
       "4       110005    202412                                        1213   \n",
       "\n",
       "   valor_repassado_bolsa_familia_s  pbf_vlr_medio_benef_f  \n",
       "0                        1132797.0                 679.54  \n",
       "1                        5247594.0                 683.90  \n",
       "2                         207117.0                 674.65  \n",
       "3                        4041564.0                 666.70  \n",
       "4                         849202.0                 702.40  "
      ]
     },
     "execution_count": 3,
     "metadata": {},
     "output_type": "execute_result"
    }
   ],
   "source": [
    "df.head()"
   ]
  },
  {
   "cell_type": "code",
   "execution_count": 4,
   "id": "6ee46758",
   "metadata": {},
   "outputs": [
    {
     "name": "stdout",
     "output_type": "stream",
     "text": [
      "<class 'pandas.core.frame.DataFrame'>\n",
      "RangeIndex: 66840 entries, 0 to 66839\n",
      "Data columns (total 5 columns):\n",
      " #   Column                                      Non-Null Count  Dtype  \n",
      "---  ------                                      --------------  -----  \n",
      " 0   codigo_ibge                                 66840 non-null  int64  \n",
      " 1   anomes_s                                    66840 non-null  int64  \n",
      " 2   qtd_familias_beneficiarias_bolsa_familia_s  66840 non-null  int64  \n",
      " 3   valor_repassado_bolsa_familia_s             66840 non-null  float64\n",
      " 4   pbf_vlr_medio_benef_f                       66840 non-null  float64\n",
      "dtypes: float64(2), int64(3)\n",
      "memory usage: 2.5 MB\n"
     ]
    }
   ],
   "source": [
    "df.info()"
   ]
  },
  {
   "cell_type": "code",
   "execution_count": 5,
   "id": "0c121167",
   "metadata": {},
   "outputs": [
    {
     "data": {
      "text/html": [
       "<div>\n",
       "<style scoped>\n",
       "    .dataframe tbody tr th:only-of-type {\n",
       "        vertical-align: middle;\n",
       "    }\n",
       "\n",
       "    .dataframe tbody tr th {\n",
       "        vertical-align: top;\n",
       "    }\n",
       "\n",
       "    .dataframe thead th {\n",
       "        text-align: right;\n",
       "    }\n",
       "</style>\n",
       "<table border=\"1\" class=\"dataframe\">\n",
       "  <thead>\n",
       "    <tr style=\"text-align: right;\">\n",
       "      <th></th>\n",
       "      <th>codigo_ibge</th>\n",
       "      <th>anomes_s</th>\n",
       "      <th>qtd_familias_beneficiarias_bolsa_familia_s</th>\n",
       "      <th>valor_repassado_bolsa_familia_s</th>\n",
       "      <th>pbf_vlr_medio_benef_f</th>\n",
       "    </tr>\n",
       "  </thead>\n",
       "  <tbody>\n",
       "    <tr>\n",
       "      <th>count</th>\n",
       "      <td>66840.000000</td>\n",
       "      <td>66840.000000</td>\n",
       "      <td>66840.00000</td>\n",
       "      <td>6.684000e+04</td>\n",
       "      <td>66840.000000</td>\n",
       "    </tr>\n",
       "    <tr>\n",
       "      <th>mean</th>\n",
       "      <td>325358.627828</td>\n",
       "      <td>202406.500000</td>\n",
       "      <td>3744.75211</td>\n",
       "      <td>2.549393e+06</td>\n",
       "      <td>677.713829</td>\n",
       "    </tr>\n",
       "    <tr>\n",
       "      <th>std</th>\n",
       "      <td>98482.928985</td>\n",
       "      <td>3.452078</td>\n",
       "      <td>16088.50042</td>\n",
       "      <td>1.077185e+07</td>\n",
       "      <td>30.753817</td>\n",
       "    </tr>\n",
       "    <tr>\n",
       "      <th>min</th>\n",
       "      <td>110001.000000</td>\n",
       "      <td>202401.000000</td>\n",
       "      <td>5.00000</td>\n",
       "      <td>2.950000e+03</td>\n",
       "      <td>486.480000</td>\n",
       "    </tr>\n",
       "    <tr>\n",
       "      <th>25%</th>\n",
       "      <td>251210.000000</td>\n",
       "      <td>202403.750000</td>\n",
       "      <td>510.00000</td>\n",
       "      <td>3.411040e+05</td>\n",
       "      <td>661.270000</td>\n",
       "    </tr>\n",
       "    <tr>\n",
       "      <th>50%</th>\n",
       "      <td>314627.500000</td>\n",
       "      <td>202406.500000</td>\n",
       "      <td>1327.50000</td>\n",
       "      <td>8.989490e+05</td>\n",
       "      <td>675.000000</td>\n",
       "    </tr>\n",
       "    <tr>\n",
       "      <th>75%</th>\n",
       "      <td>411920.000000</td>\n",
       "      <td>202409.250000</td>\n",
       "      <td>3326.00000</td>\n",
       "      <td>2.279641e+06</td>\n",
       "      <td>690.400000</td>\n",
       "    </tr>\n",
       "    <tr>\n",
       "      <th>max</th>\n",
       "      <td>530010.000000</td>\n",
       "      <td>202412.000000</td>\n",
       "      <td>720175.00000</td>\n",
       "      <td>4.903408e+08</td>\n",
       "      <td>1151.800000</td>\n",
       "    </tr>\n",
       "  </tbody>\n",
       "</table>\n",
       "</div>"
      ],
      "text/plain": [
       "         codigo_ibge       anomes_s  \\\n",
       "count   66840.000000   66840.000000   \n",
       "mean   325358.627828  202406.500000   \n",
       "std     98482.928985       3.452078   \n",
       "min    110001.000000  202401.000000   \n",
       "25%    251210.000000  202403.750000   \n",
       "50%    314627.500000  202406.500000   \n",
       "75%    411920.000000  202409.250000   \n",
       "max    530010.000000  202412.000000   \n",
       "\n",
       "       qtd_familias_beneficiarias_bolsa_familia_s  \\\n",
       "count                                 66840.00000   \n",
       "mean                                   3744.75211   \n",
       "std                                   16088.50042   \n",
       "min                                       5.00000   \n",
       "25%                                     510.00000   \n",
       "50%                                    1327.50000   \n",
       "75%                                    3326.00000   \n",
       "max                                  720175.00000   \n",
       "\n",
       "       valor_repassado_bolsa_familia_s  pbf_vlr_medio_benef_f  \n",
       "count                     6.684000e+04           66840.000000  \n",
       "mean                      2.549393e+06             677.713829  \n",
       "std                       1.077185e+07              30.753817  \n",
       "min                       2.950000e+03             486.480000  \n",
       "25%                       3.411040e+05             661.270000  \n",
       "50%                       8.989490e+05             675.000000  \n",
       "75%                       2.279641e+06             690.400000  \n",
       "max                       4.903408e+08            1151.800000  "
      ]
     },
     "execution_count": 5,
     "metadata": {},
     "output_type": "execute_result"
    }
   ],
   "source": [
    "df.describe()"
   ]
  },
  {
   "cell_type": "code",
   "execution_count": 6,
   "id": "5aa89c09",
   "metadata": {},
   "outputs": [
    {
     "data": {
      "text/plain": [
       "codigo_ibge                                   0\n",
       "anomes_s                                      0\n",
       "qtd_familias_beneficiarias_bolsa_familia_s    0\n",
       "valor_repassado_bolsa_familia_s               0\n",
       "pbf_vlr_medio_benef_f                         0\n",
       "dtype: int64"
      ]
     },
     "execution_count": 6,
     "metadata": {},
     "output_type": "execute_result"
    }
   ],
   "source": [
    "df.isnull().sum()"
   ]
  },
  {
   "cell_type": "code",
   "execution_count": 7,
   "id": "35fd4f2d",
   "metadata": {},
   "outputs": [
    {
     "data": {
      "text/plain": [
       "np.int64(0)"
      ]
     },
     "execution_count": 7,
     "metadata": {},
     "output_type": "execute_result"
    }
   ],
   "source": [
    "df.duplicated(subset=[\"codigo_ibge\", \"anomes_s\"]).sum()"
   ]
  },
  {
   "cell_type": "markdown",
   "id": "91f25b0a",
   "metadata": {},
   "source": [
    "### Questionamentos e analises"
   ]
  },
  {
   "cell_type": "markdown",
   "id": "93bd7780",
   "metadata": {},
   "source": [
    "Q1 - Quais faixas de municípios concentram mais repasses acima da média nacional?"
   ]
  },
  {
   "cell_type": "markdown",
   "id": "f09e0d62",
   "metadata": {},
   "source": [
    "Q2 - Como o valor médio do benefício evolui ao longo do tempo em diferentes faixas de demanda?"
   ]
  },
  {
   "cell_type": "markdown",
   "id": "b6d0f10b",
   "metadata": {},
   "source": [
    "Q3 - Qual a desigualdade interna em cada faixa de demanda em relação ao valor médio anual por família?"
   ]
  },
  {
   "cell_type": "markdown",
   "id": "b5649691",
   "metadata": {},
   "source": [
    "### Envio do csv para o bucket do s3"
   ]
  },
  {
   "cell_type": "code",
   "execution_count": 8,
   "id": "f53e6f40",
   "metadata": {},
   "outputs": [
    {
     "name": "stdout",
     "output_type": "stream",
     "text": [
      "Conexão com o S3 estabelecida com sucesso!\n"
     ]
    }
   ],
   "source": [
    "try:\n",
    "    session = boto3.Session(profile_name='compass-sso')\n",
    "    s3 = session.client('s3')\n",
    "    print(\"Conexão com o S3 estabelecida com sucesso!\")\n",
    "except ProfileNotFound:\n",
    "    print(\" Erro: Perfil 'compass-sso' não encontrado. Verifique se o perfil está configurado com aws configure.\")\n",
    "except NoCredentialsError:\n",
    "    print(\" Erro: Credenciais não encontradas. Configure suas credenciais AWS.\")\n",
    "except BotoCoreError as e:\n",
    "    print(f\" Erro ao conectar com a AWS: {e}\")\n",
    "\n",
    "s3.upload_file('bolsa_familia_2024.csv', 'desafio-sprint4-8972', 'bolsa_familia_2024.csv')"
   ]
  }
 ],
 "metadata": {
  "kernelspec": {
   "display_name": "Python 3",
   "language": "python",
   "name": "python3"
  },
  "language_info": {
   "codemirror_mode": {
    "name": "ipython",
    "version": 3
   },
   "file_extension": ".py",
   "mimetype": "text/x-python",
   "name": "python",
   "nbconvert_exporter": "python",
   "pygments_lexer": "ipython3",
   "version": "3.10.6"
  }
 },
 "nbformat": 4,
 "nbformat_minor": 5
}
